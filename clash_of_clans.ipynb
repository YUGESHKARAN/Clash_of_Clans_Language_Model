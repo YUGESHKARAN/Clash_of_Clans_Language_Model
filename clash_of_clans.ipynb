{
 "cells": [
  {
   "cell_type": "code",
   "execution_count": null,
   "id": "735f5a68",
   "metadata": {},
   "outputs": [],
   "source": [
    "import torch\n",
    "import torch.nn as nn\n",
    "import torch.nn.functional as F\n",
    "import pickle"
   ]
  },
  {
   "cell_type": "code",
   "execution_count": null,
   "id": "9cfcf5f8",
   "metadata": {},
   "outputs": [],
   "source": [
    "with open(\"tokenizer.pkl\", \"rb\") as f:\n",
    "    stoi, itos = pickle.load(f)\n",
    "\n",
    "def encode(s): return [stoi.get(c, stoi[' ']) for c in s]\n",
    "def decode(l): return ''.join([itos[i] for i in l])\n",
    "\n",
    "vocab_size = len(stoi)\n"
   ]
  },
  {
   "cell_type": "code",
   "execution_count": 3,
   "id": "054cfb55",
   "metadata": {},
   "outputs": [],
   "source": [
    "device = 'cuda' if torch.cuda.is_available() else 'cpu'"
   ]
  },
  {
   "cell_type": "code",
   "execution_count": 4,
   "id": "bc8caff6",
   "metadata": {},
   "outputs": [],
   "source": [
    "batch_size = 64\n",
    "block_size = 256\n",
    "n_embed = 256\n",
    "n_heads = 8\n",
    "n_layer = 6\n",
    "learning_rate = 1e-4\n",
    "max_iters = 3000\n",
    "eval_interval = 100"
   ]
  },
  {
   "cell_type": "code",
   "execution_count": 5,
   "id": "1a7f7b38",
   "metadata": {},
   "outputs": [],
   "source": [
    "# Attention class\n",
    "\n",
    "class SelfAttentionHead(nn.Module):\n",
    "    def __init__(self,head_size):\n",
    "        super().__init__()\n",
    "        self.query = nn.Linear(n_embed,head_size,bias = False)\n",
    "        self.key = nn.Linear(n_embed,head_size,bias = False)\n",
    "        self.value = nn.Linear(n_embed,head_size,bias = False)\n",
    "        self.dropout = nn.Dropout(0.1)\n",
    "        self.register_buffer(\"tril\",torch.tril(torch.ones(block_size,block_size)))\n",
    "\n",
    "    def forward(self,x):\n",
    "        B,T,C = x.shape\n",
    "        q = self.query(x)\n",
    "        k = self.key(x)\n",
    "        v = self.value(x)\n",
    "        wei = q @ k.transpose(-2,-1) * (C**-0.5)\n",
    "        wei = wei.masked_fill(self.tril[:T,:T]==0, float('-inf'))\n",
    "        wei = F.softmax(wei,dim=-1)\n",
    "        wei = self.dropout(wei)\n",
    "\n",
    "        return wei @ v"
   ]
  },
  {
   "cell_type": "code",
   "execution_count": 6,
   "id": "f275fbe6",
   "metadata": {},
   "outputs": [],
   "source": [
    "# Transformers class\n",
    "\n",
    "class TransformerBlock(nn.Module):\n",
    "    def __init__(self,n_embed,n_heads):\n",
    "        super().__init__()\n",
    "        head_size = n_embed // n_heads\n",
    "        self.sa_heads = nn.ModuleList([SelfAttentionHead(head_size) for _ in range(n_heads)])\n",
    "        self.proj = nn.Linear(n_embed,n_embed)\n",
    "        self.ffw = nn.Sequential(\n",
    "            nn.Linear(n_embed,n_embed),\n",
    "            nn.ReLU(),\n",
    "            nn.Linear(n_embed,n_embed)\n",
    "        )\n",
    "        self.ln1 = nn.LayerNorm(n_embed)\n",
    "        self.ln2 = nn.LayerNorm(n_embed)\n",
    "        self.dropout = nn.Dropout(0.1)\n",
    "\n",
    "\n",
    "    def forward(self,x):\n",
    "        x = x + self.dropout(self.proj(torch.cat([h(x) for h in self.sa_heads], dim=-1))) # resnet connection 1\n",
    "        x = self.ln1(x)\n",
    "        x = x + self.ffw(x) # resnet connection 2\n",
    "        x = self.ln2(x)\n",
    "\n",
    "        return x"
   ]
  },
  {
   "cell_type": "code",
   "execution_count": null,
   "id": "da7f3f4f",
   "metadata": {},
   "outputs": [],
   "source": [
    "# Language Model class\n",
    "class LanguageModel(nn.Module):\n",
    "    def __init__(self):\n",
    "        super().__init__()\n",
    "        self.token_embed = nn.Embedding(vocab_size,n_embed)\n",
    "        self.pos_embed = nn.Embedding(block_size,n_embed)\n",
    "        self.blocks = nn.Sequential(*[TransformerBlock(n_embed,n_heads) for _ in range(n_layer)])\n",
    "        self.ln = nn.LayerNorm(n_embed)\n",
    "        self.lm = nn.Linear(n_embed,vocab_size)\n",
    "\n",
    "    def forward(self, idx,target=None):\n",
    "\n",
    "        B,T = idx.shape\n",
    "        static_embed = self.token_embed(idx)\n",
    "        positional_embed  = self.pos_embed(torch.arange(T, device=idx.device))\n",
    "        x = static_embed + positional_embed\n",
    "        x = self.blocks(x)\n",
    "        x = self.ln(x)\n",
    "        logits = self.lm(x)\n",
    "\n",
    "        if target is None:\n",
    "            return logits , None\n",
    "\n",
    "        B,T,C = logits.shape\n",
    "        logits = logits.view(B*T,C)\n",
    "        target = target.view(B*T)\n",
    "        loss = F.cross_entropy(logits,target)\n",
    "\n",
    "        return logits,loss\n",
    "\n",
    "\n",
    "    def generate(self, idx, max_new_tokens, temperature=1.0, top_k=None, stop_token=None):\n",
    "        for _ in range(max_new_tokens):\n",
    "            idx_cond = idx[:, -block_size:]\n",
    "            logits, _ = self(idx_cond)\n",
    "            logits = logits[:, -1, :] / temperature\n",
    "\n",
    "            if top_k is not None:\n",
    "                v, _ = torch.topk(logits, top_k)\n",
    "                logits[logits < v[:, [-1]]] = -float('Inf')\n",
    "\n",
    "            probs = F.softmax(logits, dim=-1)\n",
    "            next_idx = torch.multinomial(probs, num_samples=1)\n",
    "            idx = torch.cat((idx, next_idx), dim=1)\n",
    "\n",
    "            # Early stopping if stop_token is generated\n",
    "            if stop_token:\n",
    "                stop_token_id = encode(stop_token)[0]\n",
    "                if next_idx.item() == stop_token_id:\n",
    "                    break\n",
    "        return idx\n"
   ]
  },
  {
   "cell_type": "code",
   "execution_count": 8,
   "id": "15e59a14",
   "metadata": {},
   "outputs": [
    {
     "name": "stderr",
     "output_type": "stream",
     "text": [
      "C:\\Users\\yuges\\AppData\\Local\\Temp\\ipykernel_10712\\128376389.py:2: FutureWarning: You are using `torch.load` with `weights_only=False` (the current default value), which uses the default pickle module implicitly. It is possible to construct malicious pickle data which will execute arbitrary code during unpickling (See https://github.com/pytorch/pytorch/blob/main/SECURITY.md#untrusted-models for more details). In a future release, the default value for `weights_only` will be flipped to `True`. This limits the functions that could be executed during unpickling. Arbitrary objects will no longer be allowed to be loaded via this mode unless they are explicitly allowlisted by the user via `torch.serialization.add_safe_globals`. We recommend you start setting `weights_only=True` for any use case where you don't have full control of the loaded file. Please open an issue on GitHub for any issues related to this experimental feature.\n",
      "  model.load_state_dict(torch.load(\"clash_transformer_finetuned.pth\"))\n"
     ]
    },
    {
     "data": {
      "text/plain": [
       "<All keys matched successfully>"
      ]
     },
     "execution_count": 8,
     "metadata": {},
     "output_type": "execute_result"
    }
   ],
   "source": [
    "model = LanguageModel().to(device)\n",
    "model.load_state_dict(torch.load(\"clash_transformer_finetuned.pth\"))"
   ]
  },
  {
   "cell_type": "code",
   "execution_count": 15,
   "id": "1c79f0c4",
   "metadata": {},
   "outputs": [
    {
     "name": "stdout",
     "output_type": "stream",
     "text": [
      "Total parameters: 2.96M\n",
      "Trainable parameters: 2.96M\n"
     ]
    }
   ],
   "source": [
    "def count_parameters_in_millions(model):\n",
    "    total = sum(p.numel() for p in model.parameters())\n",
    "    trainable = sum(p.numel() for p in model.parameters() if p.requires_grad)\n",
    "    \n",
    "    print(f\"Total parameters: {total / 1_000_000:.2f}M\")\n",
    "    print(f\"Trainable parameters: {trainable / 1_000_000:.2f}M\")\n",
    "\n",
    "\n",
    "count_parameters_in_millions(model)\n"
   ]
  },
  {
   "cell_type": "code",
   "execution_count": null,
   "id": "e246b44c",
   "metadata": {},
   "outputs": [
    {
     "name": "stdout",
     "output_type": "stream",
     "text": [
      "\n",
      "🧠 Assistant Response:\n",
      "\n",
      "The Royal Champion is unlocked at Town Hall 13 and is designed to target and destroy defensive structures. Her ability, Seeking Shield, throws a shield that hits up to four defenses, dealing high damage. She can jump over walls, making her highly effective at taking out key defenses like Inferno Towers and Eagle Artillery. <\n"
     ]
    }
   ],
   "source": [
    "\n",
    "with torch.no_grad():\n",
    "    # prompt = \"<|user|> Describe the Royal Champion's ability <|assistant|>\"\n",
    "    while True:\n",
    "         user_input =  input(\"User Prompt: \").strip()\n",
    "         if user_input.lower() == \"exit\":\n",
    "                print(\"Exiting the chat. Goodbye!\")\n",
    "                break\n",
    "         if user_input:\n",
    "            prompt = f\"<|user|> {user_input} <|assistant|>\"\n",
    "            \n",
    "            input_ids = torch.tensor([encode(prompt)], dtype=torch.long).to(device)\n",
    "            output_ids = model.generate(\n",
    "                input_ids,\n",
    "                max_new_tokens=400,\n",
    "                temperature=0.8,\n",
    "                top_k=40,\n",
    "                stop_token=\"<|endoftext|>\"\n",
    "            )\n",
    "\n",
    "            # Decode\n",
    "            full_text = decode(output_ids[0].tolist())\n",
    "\n",
    "            # Extract only assistant reply\n",
    "            start = full_text.find(\"<|assistant|>\") + len(\"<|assistant|>\")\n",
    "            end = full_text.find(\"<|endoftext|>\", start)\n",
    "            assistant_response = full_text[start:end].strip() if end != -1 else full_text[start:].strip()\n",
    "\n",
    "            print(\"\\n🧠 Assistant Response:\\n\")\n",
    "            print(assistant_response)"
   ]
  }
 ],
 "metadata": {
  "kernelspec": {
   "display_name": "transformers",
   "language": "python",
   "name": "python3"
  },
  "language_info": {
   "codemirror_mode": {
    "name": "ipython",
    "version": 3
   },
   "file_extension": ".py",
   "mimetype": "text/x-python",
   "name": "python",
   "nbconvert_exporter": "python",
   "pygments_lexer": "ipython3",
   "version": "3.12.4"
  }
 },
 "nbformat": 4,
 "nbformat_minor": 5
}
